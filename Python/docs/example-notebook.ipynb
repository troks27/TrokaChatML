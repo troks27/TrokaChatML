{
 "cells": [
  {
   "cell_type": "markdown",
   "metadata": {},
   "source": [
    "# Cell Communication Perturbation Analysis\n",
    "\n",
    "This notebook demonstrates how to use the `cell_comm_perturb` package for analyzing and predicting perturbations in cell-cell communication."
   ]
  },
  {
   "cell_type": "markdown",
   "metadata": {},
   "source": [
    "## Setup\n",
    "\n",
    "First, let's install the package if it's not already installed."
   ]
  },
  {
   "cell_type": "code",
   "execution_count": null,
   "metadata": {},
   "outputs": [],
   "source": [
    "# Uncomment the line below to install the package if it's not already installed\n",
    "# !pip install -e /path/to/cell_comm_perturb"
   ]
  },
  {
   "cell_type": "code",
   "execution_count": null,
   "metadata": {},
   "outputs": [],
   "source": [
    "# Import necessary libraries\n",
    "import pandas as pd\n",
    "import numpy as np\n",
    "import matplotlib.pyplot as plt\n",
    "import seaborn as sns\n",
    "\n",
    "# Import our package\n",
    "import cell_comm_perturb as ccp"
   ]
  },
  {
   "cell_type": "markdown",
   "metadata": {},
   "source": [
    "## Data Loading\n",
    "\n",
    "Let's load the data files for our analysis."
   ]
  },
  {
   "cell_type": "code",
   "execution_count": null,
   "metadata": {},
   "outputs": [],
   "source": [
    "# Define file paths\n",
    "control_path = \"path/to/noise_model_predictions_NG.csv\"\n",
    "exp_path = \"path/to/noise_model_predictions_DIAB.csv\"\n",
    "control_pct_path = \"path/to/NG_results.csv\"\n",
    "exp_pct_path = \"path/to/DIAB_results.csv\"\n",
    "\n",
    "# Load data\n",
    "control_df, exp_df, control_pct, exp_pct = ccp.data_processing.load_data(\n",
    "    control_path, exp_path, control_pct_path, exp_pct_path,\n",
    "    control_condition=\"NG\", exp_condition=\"DIAB\"\n",
    ")\n",
    "\n",
    "# Display a sample of control data\n",
    "control_df.head()"
   ]
  },
  {
   "cell_type": "markdown",
   "metadata": {},
   "source": [
    "## Data Processing\n",
    "\n",
    "Let's process the data using our package's functions."
   ]
  },
  {
   "cell_type": "code",
   "execution_count": null,
   "metadata": {},
   "outputs": [],
   "source": [
    "# Apply PCT filter to both datasets\n",
    "control_df = ccp.process_pct_filter(control_df, control_pct, pvalue_cutoff=0.05)\n",
    "exp_df = ccp.process_pct_filter(exp_df, exp_pct, pvalue_cutoff=0.05)\n",
    "\n",
    "# Create test and training datasets\n",
    "final_df = ccp.test_set_create(exp_df, control_df)\n",
    "exp_final = ccp.preprocess_datasets(final_df)\n",
    "\n",
    "final_train_df = ccp.train_set_create(exp_df, control_df)\n",
    "control_final = ccp.preprocess_datasets(final_train_df)\n",
    "\n",
    "# Perform stratified split for training data\n",
    "train_control, test_control = ccp.stratified_split_handle_rare_classes(control_final, 'source_target')"
   ]
  },
  {
   "cell_type": "markdown",
   "metadata": {},
   "source": [
    "## Data Visualization\n",
    "\n",
    "Let's create some visualizations to understand our data."
   ]
  },
  {
   "cell_type": "code",
   "execution_count": null,
   "metadata": {},
   "outputs": [],
   "source": [
    "# Create a Venn diagram showing overlap between conditions\n",
    "ccp.plot_venn_diagram(control_df, exp_df, control_condition=\"NG\", exp_condition=\"DIAB\")"
   ]
  },
  {
   "cell_type": "markdown",
   "metadata": {},
   "source": [
    "## Model Training\n",
    "\n",
    "Let's train a LightGBM model to predict perturbations."
   ]
  },
  {
   "cell_type": "code",
   "execution_count": null,
   "metadata": {},
   "outputs": [],
   "source": [
    "# Train model with hyperparameter optimization (10 trials for example, increase for real use)\n",
    "final_model, best_params = ccp.perform_kfold_cv(train_control, n_trials=10, n_jobs=None)\n",
    "\n",
    "# Print best parameters\n",
    "print(\"Best parameters:\")\n",
    "for param, value in best_params.items():\n",
    "    print(f\"{param}: {value}\")"
   ]
  },
  {
   "cell_type": "markdown",
   "metadata": {},
   "source": [
    "## Model Evaluation\n",
    "\n",
    "Let's evaluate our model on the test data."
   ]
  },
  {
   "cell_type": "code",
   "execution_count": null,
   "metadata": {},
   "outputs": [],
   "source": [
    "# Preprocess test data for evaluation\n",
    "lgb_control_data, features = ccp.preprocess_test_dataset(test_control)\n",
    "\n",
    "# Evaluate the model with diagnostic plots\n",
    "rmse, r2, test_residuals = ccp.evaluate_model_with_plots(final_model, lgb_control_data.data, lgb_control_data.label)\n",
    "\n",
    "# Print statistics about the logTF Communication Score\n",
    "stdev_logTF_communication_score = test_control['logTF Communication Score'].std()\n",
    "range_logTF_communication_score = test_control['logTF Communication Score'].max() - test_control['logTF Communication Score'].min()\n",
    "\n",
    "print(f\"Standard deviation of logTF Communication Score: {stdev_logTF_communication_score:.4f}\")\n",
    "print(f\"Range of logTF Communication Score: {range_logTF_communication_score:.4f}\")"
   ]
  },
  {
   "cell_type": "markdown",
   "metadata": {},
   "source": [
    "## Feature Importance\n",
    "\n",
    "Let's examine the feature importance from our model."
   ]
  },
  {
   "cell_type": "code",
   "execution_count": null,
   "metadata": {},
   "outputs": [],
   "source": [
    "# Plot feature importance based on gain\n",
    "ccp.plot_feature_importance(final_model, importance_type=\"gain\")\n",
    "\n",
    "# Plot feature importance based on split\n",
    "ccp.plot_feature_importance(final_model, importance_type=\"split\")"
   ]
  },
  {
   "cell_type": "markdown",
   "metadata": {},
   "source": [
    "## Applying the Model to Experimental Data\n",
    "\n",
    "Now let's apply our model to the experimental data."
   ]
  },
  {
   "cell_type": "code",
   "execution_count": null,
   "metadata": {},
   "outputs": [],
   "source": [
    "# Train the final model on the entire training dataset\n",
    "final_model = ccp.train_final_model(control_final, best_params)\n",
    "\n",
    "# Evaluate the model on the experimental data\n",
    "lgb_exp_data, features = ccp.preprocess_test_dataset(exp_final)\n",
    "rmse, r2, test_residuals = ccp.evaluate_model_with_plots(final_model, lgb_exp_data.data, lgb_exp_data.label)"
   ]
  },
  {
   "cell_type": "markdown",
   "metadata": {},
   "source": [
    "## Residuals Analysis and Filtering\n",
    "\n",
    "Let's analyze the residuals and apply filtering based on the RMSE threshold."
   ]
  },
  {
   "cell_type": "code",
   "execution_count": null,
   "metadata": {},
   "outputs": [],
   "source": [
    "# Create an elbow plot of the residuals\n",
    "ccp.visualization.plot_elbow_residuals(test_residuals, rmse=0.81)\n",
    "\n",
    "# Apply filtering based on residuals\n",
    "filtered_exp_final = ccp.data_processing.filter_with_residuals(\n",
    "    exp_final, \n",
    "    test_residuals, \n",
    "    rmse_threshold=0.81, \n",
    "    output_path=\"path/to/output/exp_final_with_residuals.csv\"\n",
    ")"
   ]
  },
  {
   "cell_type": "markdown",
   "metadata": {},
   "source": [
    "## Save the Model\n",
    "\n",
    "Let's save our model for future use."
   ]
  },
  {
   "cell_type": "code",
   "execution_count": null,
   "metadata": {},
   "outputs": [],
   "source": [
    "# Save the final model\n",
    "ccp.save_model(final_model, \"path/to/cell_cell_comm_model.pkl\")\n",
    "\n",
    "# Later, we can load the model using:\n",
    "# loaded_model = ccp.load_model(\"path/to/cell_cell_comm_model.pkl\")"
   ]
  }
 ],
 "metadata": {
  "kernelspec": {
   "display_name": "Python 3",
   "language": "python",
   "name": "python3"
  },
  "language_info": {
   "codemirror_mode": {
    "name": "ipython",
    "version": 3
   },
   "file_extension": ".py",
   "mimetype": "text/x-python",
   "name": "python",
   "nbconvert_exporter": "python",
   "pygments_lexer": "ipython3",
   "version": "3.8.8"
  }
 },
 "nbformat": 4,
 "nbformat_minor": 4
}
